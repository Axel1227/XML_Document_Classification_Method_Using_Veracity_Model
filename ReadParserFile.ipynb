os.chdir('/home/user/Jupyter/') #切回最原始的執行路徑

import os
b_path="b_xml_file/"
b_file_list = [n for n in os.listdir(b_path) if os.path.isfile(os.path.join(b_path, n))]
b_file_list.sort()
b_file_list 
