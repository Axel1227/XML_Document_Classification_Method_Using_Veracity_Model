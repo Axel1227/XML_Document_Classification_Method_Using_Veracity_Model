
def data_guides(list_xml): # 傳入list_xml(未處理的所有標籤(深度+標籤))
    list_data_guides = []
    for x in list_xml:
        if x not in list_data_guides :
            list_data_guides.append(x)
    return list_data_guides # 回傳不重複的深度+標籤

