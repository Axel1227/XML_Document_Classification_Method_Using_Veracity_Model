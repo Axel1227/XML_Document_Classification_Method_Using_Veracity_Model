
def data_guides(list_xml):
    list_data_guides = []
    for x in list_xml:
        if x not in list_data_guides :
            list_data_guides.append(x)
    return list_data_guides 

